{
 "metadata": {
  "language_info": {
   "codemirror_mode": {
    "name": "ipython",
    "version": 3
   },
   "file_extension": ".py",
   "mimetype": "text/x-python",
   "name": "python",
   "nbconvert_exporter": "python",
   "pygments_lexer": "ipython3",
   "version": "3.7.6-final"
  },
  "orig_nbformat": 2,
  "kernelspec": {
   "name": "python3",
   "display_name": "Python 3",
   "language": "python"
  }
 },
 "nbformat": 4,
 "nbformat_minor": 2,
 "cells": [
  {
   "cell_type": "code",
   "execution_count": 1,
   "metadata": {},
   "outputs": [
    {
     "output_type": "display_data",
     "data": {
      "text/html": "\n    <div class=\"bk-root\">\n        <a href=\"https://bokeh.org\" target=\"_blank\" class=\"bk-logo bk-logo-small bk-logo-notebook\"></a>\n        <span id=\"1001\">Loading BokehJS ...</span>\n    </div>"
     },
     "metadata": {}
    },
    {
     "output_type": "display_data",
     "data": {
      "application/javascript": "\n(function(root) {\n  function now() {\n    return new Date();\n  }\n\n  var force = true;\n\n  if (typeof root._bokeh_onload_callbacks === \"undefined\" || force === true) {\n    root._bokeh_onload_callbacks = [];\n    root._bokeh_is_loading = undefined;\n  }\n\n  var JS_MIME_TYPE = 'application/javascript';\n  var HTML_MIME_TYPE = 'text/html';\n  var EXEC_MIME_TYPE = 'application/vnd.bokehjs_exec.v0+json';\n  var CLASS_NAME = 'output_bokeh rendered_html';\n\n  /**\n   * Render data to the DOM node\n   */\n  function render(props, node) {\n    var script = document.createElement(\"script\");\n    node.appendChild(script);\n  }\n\n  /**\n   * Handle when an output is cleared or removed\n   */\n  function handleClearOutput(event, handle) {\n    var cell = handle.cell;\n\n    var id = cell.output_area._bokeh_element_id;\n    var server_id = cell.output_area._bokeh_server_id;\n    // Clean up Bokeh references\n    if (id != null && id in Bokeh.index) {\n      Bokeh.index[id].model.document.clear();\n      delete Bokeh.index[id];\n    }\n\n    if (server_id !== undefined) {\n      // Clean up Bokeh references\n      var cmd = \"from bokeh.io.state import curstate; print(curstate().uuid_to_server['\" + server_id + \"'].get_sessions()[0].document.roots[0]._id)\";\n      cell.notebook.kernel.execute(cmd, {\n        iopub: {\n          output: function(msg) {\n            var id = msg.content.text.trim();\n            if (id in Bokeh.index) {\n              Bokeh.index[id].model.document.clear();\n              delete Bokeh.index[id];\n            }\n          }\n        }\n      });\n      // Destroy server and session\n      var cmd = \"import bokeh.io.notebook as ion; ion.destroy_server('\" + server_id + \"')\";\n      cell.notebook.kernel.execute(cmd);\n    }\n  }\n\n  /**\n   * Handle when a new output is added\n   */\n  function handleAddOutput(event, handle) {\n    var output_area = handle.output_area;\n    var output = handle.output;\n\n    // limit handleAddOutput to display_data with EXEC_MIME_TYPE content only\n    if ((output.output_type != \"display_data\") || (!output.data.hasOwnProperty(EXEC_MIME_TYPE))) {\n      return\n    }\n\n    var toinsert = output_area.element.find(\".\" + CLASS_NAME.split(' ')[0]);\n\n    if (output.metadata[EXEC_MIME_TYPE][\"id\"] !== undefined) {\n      toinsert[toinsert.length - 1].firstChild.textContent = output.data[JS_MIME_TYPE];\n      // store reference to embed id on output_area\n      output_area._bokeh_element_id = output.metadata[EXEC_MIME_TYPE][\"id\"];\n    }\n    if (output.metadata[EXEC_MIME_TYPE][\"server_id\"] !== undefined) {\n      var bk_div = document.createElement(\"div\");\n      bk_div.innerHTML = output.data[HTML_MIME_TYPE];\n      var script_attrs = bk_div.children[0].attributes;\n      for (var i = 0; i < script_attrs.length; i++) {\n        toinsert[toinsert.length - 1].firstChild.setAttribute(script_attrs[i].name, script_attrs[i].value);\n        toinsert[toinsert.length - 1].firstChild.textContent = bk_div.children[0].textContent\n      }\n      // store reference to server id on output_area\n      output_area._bokeh_server_id = output.metadata[EXEC_MIME_TYPE][\"server_id\"];\n    }\n  }\n\n  function register_renderer(events, OutputArea) {\n\n    function append_mime(data, metadata, element) {\n      // create a DOM node to render to\n      var toinsert = this.create_output_subarea(\n        metadata,\n        CLASS_NAME,\n        EXEC_MIME_TYPE\n      );\n      this.keyboard_manager.register_events(toinsert);\n      // Render to node\n      var props = {data: data, metadata: metadata[EXEC_MIME_TYPE]};\n      render(props, toinsert[toinsert.length - 1]);\n      element.append(toinsert);\n      return toinsert\n    }\n\n    /* Handle when an output is cleared or removed */\n    events.on('clear_output.CodeCell', handleClearOutput);\n    events.on('delete.Cell', handleClearOutput);\n\n    /* Handle when a new output is added */\n    events.on('output_added.OutputArea', handleAddOutput);\n\n    /**\n     * Register the mime type and append_mime function with output_area\n     */\n    OutputArea.prototype.register_mime_type(EXEC_MIME_TYPE, append_mime, {\n      /* Is output safe? */\n      safe: true,\n      /* Index of renderer in `output_area.display_order` */\n      index: 0\n    });\n  }\n\n  // register the mime type if in Jupyter Notebook environment and previously unregistered\n  if (root.Jupyter !== undefined) {\n    var events = require('base/js/events');\n    var OutputArea = require('notebook/js/outputarea').OutputArea;\n\n    if (OutputArea.prototype.mime_types().indexOf(EXEC_MIME_TYPE) == -1) {\n      register_renderer(events, OutputArea);\n    }\n  }\n\n  \n  if (typeof (root._bokeh_timeout) === \"undefined\" || force === true) {\n    root._bokeh_timeout = Date.now() + 5000;\n    root._bokeh_failed_load = false;\n  }\n\n  var NB_LOAD_WARNING = {'data': {'text/html':\n     \"<div style='background-color: #fdd'>\\n\"+\n     \"<p>\\n\"+\n     \"BokehJS does not appear to have successfully loaded. If loading BokehJS from CDN, this \\n\"+\n     \"may be due to a slow or bad network connection. Possible fixes:\\n\"+\n     \"</p>\\n\"+\n     \"<ul>\\n\"+\n     \"<li>re-rerun `output_notebook()` to attempt to load from CDN again, or</li>\\n\"+\n     \"<li>use INLINE resources instead, as so:</li>\\n\"+\n     \"</ul>\\n\"+\n     \"<code>\\n\"+\n     \"from bokeh.resources import INLINE\\n\"+\n     \"output_notebook(resources=INLINE)\\n\"+\n     \"</code>\\n\"+\n     \"</div>\"}};\n\n  function display_loaded() {\n    var el = document.getElementById(\"1001\");\n    if (el != null) {\n      el.textContent = \"BokehJS is loading...\";\n    }\n    if (root.Bokeh !== undefined) {\n      if (el != null) {\n        el.textContent = \"BokehJS \" + root.Bokeh.version + \" successfully loaded.\";\n      }\n    } else if (Date.now() < root._bokeh_timeout) {\n      setTimeout(display_loaded, 100)\n    }\n  }\n\n\n  function run_callbacks() {\n    try {\n      root._bokeh_onload_callbacks.forEach(function(callback) {\n        if (callback != null)\n          callback();\n      });\n    } finally {\n      delete root._bokeh_onload_callbacks\n    }\n    console.debug(\"Bokeh: all callbacks have finished\");\n  }\n\n  function load_libs(css_urls, js_urls, callback) {\n    if (css_urls == null) css_urls = [];\n    if (js_urls == null) js_urls = [];\n\n    root._bokeh_onload_callbacks.push(callback);\n    if (root._bokeh_is_loading > 0) {\n      console.debug(\"Bokeh: BokehJS is being loaded, scheduling callback at\", now());\n      return null;\n    }\n    if (js_urls == null || js_urls.length === 0) {\n      run_callbacks();\n      return null;\n    }\n    console.debug(\"Bokeh: BokehJS not loaded, scheduling load and callback at\", now());\n    root._bokeh_is_loading = css_urls.length + js_urls.length;\n\n    function on_load() {\n      root._bokeh_is_loading--;\n      if (root._bokeh_is_loading === 0) {\n        console.debug(\"Bokeh: all BokehJS libraries/stylesheets loaded\");\n        run_callbacks()\n      }\n    }\n\n    function on_error() {\n      console.error(\"failed to load \" + url);\n    }\n\n    for (var i = 0; i < css_urls.length; i++) {\n      var url = css_urls[i];\n      const element = document.createElement(\"link\");\n      element.onload = on_load;\n      element.onerror = on_error;\n      element.rel = \"stylesheet\";\n      element.type = \"text/css\";\n      element.href = url;\n      console.debug(\"Bokeh: injecting link tag for BokehJS stylesheet: \", url);\n      document.body.appendChild(element);\n    }\n\n    const hashes = {\"https://cdn.bokeh.org/bokeh/release/bokeh-2.2.3.min.js\": \"T2yuo9Oe71Cz/I4X9Ac5+gpEa5a8PpJCDlqKYO0CfAuEszu1JrXLl8YugMqYe3sM\", \"https://cdn.bokeh.org/bokeh/release/bokeh-widgets-2.2.3.min.js\": \"98GDGJ0kOMCUMUePhksaQ/GYgB3+NH9h996V88sh3aOiUNX3N+fLXAtry6xctSZ6\", \"https://cdn.bokeh.org/bokeh/release/bokeh-tables-2.2.3.min.js\": \"89bArO+nlbP3sgakeHjCo1JYxYR5wufVgA3IbUvDY+K7w4zyxJqssu7wVnfeKCq8\"};\n\n    for (var i = 0; i < js_urls.length; i++) {\n      var url = js_urls[i];\n      var element = document.createElement('script');\n      element.onload = on_load;\n      element.onerror = on_error;\n      element.async = false;\n      element.src = url;\n      if (url in hashes) {\n        element.crossOrigin = \"anonymous\";\n        element.integrity = \"sha384-\" + hashes[url];\n      }\n      console.debug(\"Bokeh: injecting script tag for BokehJS library: \", url);\n      document.head.appendChild(element);\n    }\n  };\n\n  function inject_raw_css(css) {\n    const element = document.createElement(\"style\");\n    element.appendChild(document.createTextNode(css));\n    document.body.appendChild(element);\n  }\n\n  \n  var js_urls = [\"https://cdn.bokeh.org/bokeh/release/bokeh-2.2.3.min.js\", \"https://cdn.bokeh.org/bokeh/release/bokeh-widgets-2.2.3.min.js\", \"https://cdn.bokeh.org/bokeh/release/bokeh-tables-2.2.3.min.js\"];\n  var css_urls = [];\n  \n\n  var inline_js = [\n    function(Bokeh) {\n      Bokeh.set_log_level(\"info\");\n    },\n    function(Bokeh) {\n    \n    \n    }\n  ];\n\n  function run_inline_js() {\n    \n    if (root.Bokeh !== undefined || force === true) {\n      \n    for (var i = 0; i < inline_js.length; i++) {\n      inline_js[i].call(root, root.Bokeh);\n    }\n    if (force === true) {\n        display_loaded();\n      }} else if (Date.now() < root._bokeh_timeout) {\n      setTimeout(run_inline_js, 100);\n    } else if (!root._bokeh_failed_load) {\n      console.log(\"Bokeh: BokehJS failed to load within specified timeout.\");\n      root._bokeh_failed_load = true;\n    } else if (force !== true) {\n      var cell = $(document.getElementById(\"1001\")).parents('.cell').data().cell;\n      cell.output_area.append_execute_result(NB_LOAD_WARNING)\n    }\n\n  }\n\n  if (root._bokeh_is_loading === 0) {\n    console.debug(\"Bokeh: BokehJS loaded, going straight to plotting\");\n    run_inline_js();\n  } else {\n    load_libs(css_urls, js_urls, function() {\n      console.debug(\"Bokeh: BokehJS plotting callback run at\", now());\n      run_inline_js();\n    });\n  }\n}(window));",
      "application/vnd.bokehjs_load.v0+json": "\n(function(root) {\n  function now() {\n    return new Date();\n  }\n\n  var force = true;\n\n  if (typeof root._bokeh_onload_callbacks === \"undefined\" || force === true) {\n    root._bokeh_onload_callbacks = [];\n    root._bokeh_is_loading = undefined;\n  }\n\n  \n\n  \n  if (typeof (root._bokeh_timeout) === \"undefined\" || force === true) {\n    root._bokeh_timeout = Date.now() + 5000;\n    root._bokeh_failed_load = false;\n  }\n\n  var NB_LOAD_WARNING = {'data': {'text/html':\n     \"<div style='background-color: #fdd'>\\n\"+\n     \"<p>\\n\"+\n     \"BokehJS does not appear to have successfully loaded. If loading BokehJS from CDN, this \\n\"+\n     \"may be due to a slow or bad network connection. Possible fixes:\\n\"+\n     \"</p>\\n\"+\n     \"<ul>\\n\"+\n     \"<li>re-rerun `output_notebook()` to attempt to load from CDN again, or</li>\\n\"+\n     \"<li>use INLINE resources instead, as so:</li>\\n\"+\n     \"</ul>\\n\"+\n     \"<code>\\n\"+\n     \"from bokeh.resources import INLINE\\n\"+\n     \"output_notebook(resources=INLINE)\\n\"+\n     \"</code>\\n\"+\n     \"</div>\"}};\n\n  function display_loaded() {\n    var el = document.getElementById(\"1001\");\n    if (el != null) {\n      el.textContent = \"BokehJS is loading...\";\n    }\n    if (root.Bokeh !== undefined) {\n      if (el != null) {\n        el.textContent = \"BokehJS \" + root.Bokeh.version + \" successfully loaded.\";\n      }\n    } else if (Date.now() < root._bokeh_timeout) {\n      setTimeout(display_loaded, 100)\n    }\n  }\n\n\n  function run_callbacks() {\n    try {\n      root._bokeh_onload_callbacks.forEach(function(callback) {\n        if (callback != null)\n          callback();\n      });\n    } finally {\n      delete root._bokeh_onload_callbacks\n    }\n    console.debug(\"Bokeh: all callbacks have finished\");\n  }\n\n  function load_libs(css_urls, js_urls, callback) {\n    if (css_urls == null) css_urls = [];\n    if (js_urls == null) js_urls = [];\n\n    root._bokeh_onload_callbacks.push(callback);\n    if (root._bokeh_is_loading > 0) {\n      console.debug(\"Bokeh: BokehJS is being loaded, scheduling callback at\", now());\n      return null;\n    }\n    if (js_urls == null || js_urls.length === 0) {\n      run_callbacks();\n      return null;\n    }\n    console.debug(\"Bokeh: BokehJS not loaded, scheduling load and callback at\", now());\n    root._bokeh_is_loading = css_urls.length + js_urls.length;\n\n    function on_load() {\n      root._bokeh_is_loading--;\n      if (root._bokeh_is_loading === 0) {\n        console.debug(\"Bokeh: all BokehJS libraries/stylesheets loaded\");\n        run_callbacks()\n      }\n    }\n\n    function on_error() {\n      console.error(\"failed to load \" + url);\n    }\n\n    for (var i = 0; i < css_urls.length; i++) {\n      var url = css_urls[i];\n      const element = document.createElement(\"link\");\n      element.onload = on_load;\n      element.onerror = on_error;\n      element.rel = \"stylesheet\";\n      element.type = \"text/css\";\n      element.href = url;\n      console.debug(\"Bokeh: injecting link tag for BokehJS stylesheet: \", url);\n      document.body.appendChild(element);\n    }\n\n    const hashes = {\"https://cdn.bokeh.org/bokeh/release/bokeh-2.2.3.min.js\": \"T2yuo9Oe71Cz/I4X9Ac5+gpEa5a8PpJCDlqKYO0CfAuEszu1JrXLl8YugMqYe3sM\", \"https://cdn.bokeh.org/bokeh/release/bokeh-widgets-2.2.3.min.js\": \"98GDGJ0kOMCUMUePhksaQ/GYgB3+NH9h996V88sh3aOiUNX3N+fLXAtry6xctSZ6\", \"https://cdn.bokeh.org/bokeh/release/bokeh-tables-2.2.3.min.js\": \"89bArO+nlbP3sgakeHjCo1JYxYR5wufVgA3IbUvDY+K7w4zyxJqssu7wVnfeKCq8\"};\n\n    for (var i = 0; i < js_urls.length; i++) {\n      var url = js_urls[i];\n      var element = document.createElement('script');\n      element.onload = on_load;\n      element.onerror = on_error;\n      element.async = false;\n      element.src = url;\n      if (url in hashes) {\n        element.crossOrigin = \"anonymous\";\n        element.integrity = \"sha384-\" + hashes[url];\n      }\n      console.debug(\"Bokeh: injecting script tag for BokehJS library: \", url);\n      document.head.appendChild(element);\n    }\n  };\n\n  function inject_raw_css(css) {\n    const element = document.createElement(\"style\");\n    element.appendChild(document.createTextNode(css));\n    document.body.appendChild(element);\n  }\n\n  \n  var js_urls = [\"https://cdn.bokeh.org/bokeh/release/bokeh-2.2.3.min.js\", \"https://cdn.bokeh.org/bokeh/release/bokeh-widgets-2.2.3.min.js\", \"https://cdn.bokeh.org/bokeh/release/bokeh-tables-2.2.3.min.js\"];\n  var css_urls = [];\n  \n\n  var inline_js = [\n    function(Bokeh) {\n      Bokeh.set_log_level(\"info\");\n    },\n    function(Bokeh) {\n    \n    \n    }\n  ];\n\n  function run_inline_js() {\n    \n    if (root.Bokeh !== undefined || force === true) {\n      \n    for (var i = 0; i < inline_js.length; i++) {\n      inline_js[i].call(root, root.Bokeh);\n    }\n    if (force === true) {\n        display_loaded();\n      }} else if (Date.now() < root._bokeh_timeout) {\n      setTimeout(run_inline_js, 100);\n    } else if (!root._bokeh_failed_load) {\n      console.log(\"Bokeh: BokehJS failed to load within specified timeout.\");\n      root._bokeh_failed_load = true;\n    } else if (force !== true) {\n      var cell = $(document.getElementById(\"1001\")).parents('.cell').data().cell;\n      cell.output_area.append_execute_result(NB_LOAD_WARNING)\n    }\n\n  }\n\n  if (root._bokeh_is_loading === 0) {\n    console.debug(\"Bokeh: BokehJS loaded, going straight to plotting\");\n    run_inline_js();\n  } else {\n    load_libs(css_urls, js_urls, function() {\n      console.debug(\"Bokeh: BokehJS plotting callback run at\", now());\n      run_inline_js();\n    });\n  }\n}(window));"
     },
     "metadata": {}
    }
   ],
   "source": [
    "import os\n",
    "import sys\n",
    "module_path = os.path.abspath(os.path.join('..'))\n",
    "if module_path not in sys.path:\n",
    "    sys.path.append(module_path)\n",
    "\n",
    "import pelt.pelt as pt\n",
    "\n",
    "from bokeh.io import push_notebook, show, output_notebook\n",
    "from bokeh.layouts import row\n",
    "from bokeh.plotting import figure\n",
    "output_notebook()"
   ]
  },
  {
   "cell_type": "code",
   "execution_count": 12,
   "metadata": {},
   "outputs": [
    {
     "output_type": "display_data",
     "data": {
      "text/html": "\n\n\n\n\n\n  <div class=\"bk-root\" id=\"e5c5bb92-561a-4782-baf0-a3914dd6b8ea\" data-root-id=\"1822\"></div>\n"
     },
     "metadata": {}
    },
    {
     "output_type": "display_data",
     "data": {
      "application/javascript": "(function(root) {\n  function embed_document(root) {\n    \n  var docs_json = {\"cd289e2a-a48d-4c06-a19f-7d9760bfa654\":{\"roots\":{\"references\":[{\"attributes\":{\"children\":[{\"id\":\"1775\"}]},\"id\":\"1822\",\"type\":\"Row\"},{\"attributes\":{\"data\":{\"x\":[0,4,8,12,16,20,24,28,32,36,40,44,48,52,56,60,64,68,72,76,80,84,88,92,96,100,104,108,112,116,120,124,128,132,136,140,144,148,152,156,160,164,168,172,176,180,184,188,192,196,200],\"y\":[0,85,163,234,300,360,415,465,512,554,593,629,662,692,720,745,768,789,809,827,843,858,872,884,896,907,916,925,934,941,948,954,960,965,970,975,979,983,986,989,992,995,997,999,1002,1003,1005,1007,1008,1009,1011]},\"selected\":{\"id\":\"1818\"},\"selection_policy\":{\"id\":\"1817\"}},\"id\":\"1806\",\"type\":\"ColumnDataSource\"},{\"attributes\":{},\"id\":\"1818\",\"type\":\"Selection\"},{\"attributes\":{},\"id\":\"1789\",\"type\":\"BasicTicker\"},{\"attributes\":{\"items\":[{\"id\":\"1821\"}]},\"id\":\"1820\",\"type\":\"Legend\"},{\"attributes\":{\"bottom_units\":\"screen\",\"fill_alpha\":0.5,\"fill_color\":\"lightgrey\",\"left_units\":\"screen\",\"level\":\"overlay\",\"line_alpha\":1.0,\"line_color\":\"black\",\"line_dash\":[4,4],\"line_width\":2,\"right_units\":\"screen\",\"top_units\":\"screen\"},\"id\":\"1798\",\"type\":\"BoxAnnotation\"},{\"attributes\":{},\"id\":\"1814\",\"type\":\"BasicTickFormatter\"},{\"attributes\":{},\"id\":\"1780\",\"type\":\"LinearScale\"},{\"attributes\":{},\"id\":\"1782\",\"type\":\"LinearScale\"},{\"attributes\":{},\"id\":\"1797\",\"type\":\"HelpTool\"},{\"attributes\":{\"line_color\":\"#1f77b4\",\"line_width\":3,\"x\":{\"field\":\"x\"},\"y\":{\"field\":\"y\"}},\"id\":\"1807\",\"type\":\"Line\"},{\"attributes\":{\"line_alpha\":0.1,\"line_color\":\"#1f77b4\",\"line_width\":3,\"x\":{\"field\":\"x\"},\"y\":{\"field\":\"y\"}},\"id\":\"1808\",\"type\":\"Line\"},{\"attributes\":{},\"id\":\"1778\",\"type\":\"DataRange1d\"},{\"attributes\":{},\"id\":\"1792\",\"type\":\"PanTool\"},{\"attributes\":{\"data_source\":{\"id\":\"1806\"},\"glyph\":{\"id\":\"1807\"},\"hover_glyph\":null,\"muted_glyph\":null,\"nonselection_glyph\":{\"id\":\"1808\"},\"selection_glyph\":null,\"view\":{\"id\":\"1810\"}},\"id\":\"1809\",\"type\":\"GlyphRenderer\"},{\"attributes\":{},\"id\":\"1793\",\"type\":\"WheelZoomTool\"},{\"attributes\":{\"formatter\":{\"id\":\"1814\"},\"ticker\":{\"id\":\"1789\"}},\"id\":\"1788\",\"type\":\"LinearAxis\"},{\"attributes\":{},\"id\":\"1817\",\"type\":\"UnionRenderers\"},{\"attributes\":{},\"id\":\"1776\",\"type\":\"DataRange1d\"},{\"attributes\":{},\"id\":\"1796\",\"type\":\"ResetTool\"},{\"attributes\":{\"axis\":{\"id\":\"1784\"},\"ticker\":null},\"id\":\"1787\",\"type\":\"Grid\"},{\"attributes\":{\"overlay\":{\"id\":\"1798\"}},\"id\":\"1794\",\"type\":\"BoxZoomTool\"},{\"attributes\":{\"source\":{\"id\":\"1806\"}},\"id\":\"1810\",\"type\":\"CDSView\"},{\"attributes\":{},\"id\":\"1795\",\"type\":\"SaveTool\"},{\"attributes\":{},\"id\":\"1785\",\"type\":\"BasicTicker\"},{\"attributes\":{\"label\":{\"value\":\"Thread\"},\"renderers\":[{\"id\":\"1809\"}]},\"id\":\"1821\",\"type\":\"LegendItem\"},{\"attributes\":{},\"id\":\"1816\",\"type\":\"BasicTickFormatter\"},{\"attributes\":{\"text\":\"\"},\"id\":\"1811\",\"type\":\"Title\"},{\"attributes\":{\"axis\":{\"id\":\"1788\"},\"dimension\":1,\"ticker\":null},\"id\":\"1791\",\"type\":\"Grid\"},{\"attributes\":{\"active_drag\":\"auto\",\"active_inspect\":\"auto\",\"active_multi\":null,\"active_scroll\":\"auto\",\"active_tap\":\"auto\",\"tools\":[{\"id\":\"1792\"},{\"id\":\"1793\"},{\"id\":\"1794\"},{\"id\":\"1795\"},{\"id\":\"1796\"},{\"id\":\"1797\"}]},\"id\":\"1799\",\"type\":\"Toolbar\"},{\"attributes\":{\"formatter\":{\"id\":\"1816\"},\"ticker\":{\"id\":\"1785\"}},\"id\":\"1784\",\"type\":\"LinearAxis\"},{\"attributes\":{\"below\":[{\"id\":\"1784\"}],\"center\":[{\"id\":\"1787\"},{\"id\":\"1791\"},{\"id\":\"1820\"}],\"left\":[{\"id\":\"1788\"}],\"plot_height\":500,\"plot_width\":500,\"renderers\":[{\"id\":\"1809\"}],\"title\":{\"id\":\"1811\"},\"toolbar\":{\"id\":\"1799\"},\"x_range\":{\"id\":\"1776\"},\"x_scale\":{\"id\":\"1780\"},\"y_range\":{\"id\":\"1778\"},\"y_scale\":{\"id\":\"1782\"}},\"id\":\"1775\",\"subtype\":\"Figure\",\"type\":\"Plot\"}],\"root_ids\":[\"1822\"]},\"title\":\"Bokeh Application\",\"version\":\"2.2.3\"}};\n  var render_items = [{\"docid\":\"cd289e2a-a48d-4c06-a19f-7d9760bfa654\",\"notebook_comms_target\":\"1886\",\"root_ids\":[\"1822\"],\"roots\":{\"1822\":\"e5c5bb92-561a-4782-baf0-a3914dd6b8ea\"}}];\n  root.Bokeh.embed.embed_items_notebook(docs_json, render_items);\n\n  }\n  if (root.Bokeh !== undefined) {\n    embed_document(root);\n  } else {\n    var attempts = 0;\n    var timer = setInterval(function(root) {\n      if (root.Bokeh !== undefined) {\n        clearInterval(timer);\n        embed_document(root);\n      } else {\n        attempts++;\n        if (attempts > 100) {\n          clearInterval(timer);\n          console.log(\"Bokeh: ERROR: Unable to run BokehJS code because BokehJS library is missing\");\n        }\n      }\n    }, 10, root)\n  }\n})(window);",
      "application/vnd.bokehjs_exec.v0+json": ""
     },
     "metadata": {
      "application/vnd.bokehjs_exec.v0+json": {
       "id": "1822"
      }
     }
    }
   ],
   "source": [
    "\"\"\"\n",
    "Task running 200 ms\n",
    "\"\"\"\n",
    "\n",
    "t = pt.Task(0, \"Thread\", init_util=0)\n",
    "t.run(200)\n",
    "\n",
    "util = t.util_history\n",
    "time = t.time_history\n",
    "\n",
    "p = figure(plot_width=500, plot_height=500)\n",
    "r = p.line(time, util, legend_label=f\"{t.comm}\", line_width=3)\n",
    "handle = show(row(p), notebook_handle=True)"
   ]
  },
  {
   "cell_type": "code",
   "execution_count": 8,
   "metadata": {},
   "outputs": [
    {
     "output_type": "display_data",
     "data": {
      "text/html": "\n\n\n\n\n\n  <div class=\"bk-root\" id=\"d2cbb64b-3986-42ab-9d9a-9ed5195decd4\" data-root-id=\"1284\"></div>\n"
     },
     "metadata": {}
    },
    {
     "output_type": "display_data",
     "data": {
      "application/javascript": "(function(root) {\n  function embed_document(root) {\n    \n  var docs_json = {\"a76769cd-1dac-41a2-8dc7-d2225b85b8ed\":{\"roots\":{\"references\":[{\"attributes\":{\"children\":[{\"id\":\"1237\"}]},\"id\":\"1284\",\"type\":\"Row\"},{\"attributes\":{},\"id\":\"1259\",\"type\":\"HelpTool\"},{\"attributes\":{\"label\":{\"value\":\"Thread_r50_s50_l2\"},\"renderers\":[{\"id\":\"1271\"}]},\"id\":\"1283\",\"type\":\"LegendItem\"},{\"attributes\":{},\"id\":\"1255\",\"type\":\"WheelZoomTool\"},{\"attributes\":{\"formatter\":{\"id\":\"1278\"},\"ticker\":{\"id\":\"1247\"}},\"id\":\"1246\",\"type\":\"LinearAxis\"},{\"attributes\":{\"items\":[{\"id\":\"1283\"}]},\"id\":\"1282\",\"type\":\"Legend\"},{\"attributes\":{},\"id\":\"1254\",\"type\":\"PanTool\"},{\"attributes\":{},\"id\":\"1238\",\"type\":\"DataRange1d\"},{\"attributes\":{\"data\":{\"x\":[0,4,8,12,16,20,24,28,32,36,40,44,48,50,54,58,62,66,70,74,78,82,86,90,94,98,100,104,108,112,116,120,124,128,132,136,140,144,148,150,154,158,162,166,170,174,178,182,186,190,194,198,200],\"y\":[0,85,163,234,300,360,415,465,512,554,593,629,662,677,621,569,522,479,439,403,369,338,310,284,261,239,229,295,355,411,462,509,551,591,627,660,690,718,743,755,692,635,582,534,489,449,411,377,346,317,291,267,255]},\"selected\":{\"id\":\"1280\"},\"selection_policy\":{\"id\":\"1279\"}},\"id\":\"1268\",\"type\":\"ColumnDataSource\"},{\"attributes\":{\"overlay\":{\"id\":\"1260\"}},\"id\":\"1256\",\"type\":\"BoxZoomTool\"},{\"attributes\":{\"line_alpha\":0.1,\"line_color\":\"#1f77b4\",\"line_width\":3,\"x\":{\"field\":\"x\"},\"y\":{\"field\":\"y\"}},\"id\":\"1270\",\"type\":\"Line\"},{\"attributes\":{\"data_source\":{\"id\":\"1268\"},\"glyph\":{\"id\":\"1269\"},\"hover_glyph\":null,\"muted_glyph\":null,\"nonselection_glyph\":{\"id\":\"1270\"},\"selection_glyph\":null,\"view\":{\"id\":\"1272\"}},\"id\":\"1271\",\"type\":\"GlyphRenderer\"},{\"attributes\":{},\"id\":\"1276\",\"type\":\"BasicTickFormatter\"},{\"attributes\":{\"formatter\":{\"id\":\"1276\"},\"ticker\":{\"id\":\"1251\"}},\"id\":\"1250\",\"type\":\"LinearAxis\"},{\"attributes\":{},\"id\":\"1278\",\"type\":\"BasicTickFormatter\"},{\"attributes\":{\"bottom_units\":\"screen\",\"fill_alpha\":0.5,\"fill_color\":\"lightgrey\",\"left_units\":\"screen\",\"level\":\"overlay\",\"line_alpha\":1.0,\"line_color\":\"black\",\"line_dash\":[4,4],\"line_width\":2,\"right_units\":\"screen\",\"top_units\":\"screen\"},\"id\":\"1260\",\"type\":\"BoxAnnotation\"},{\"attributes\":{\"source\":{\"id\":\"1268\"}},\"id\":\"1272\",\"type\":\"CDSView\"},{\"attributes\":{\"active_drag\":\"auto\",\"active_inspect\":\"auto\",\"active_multi\":null,\"active_scroll\":\"auto\",\"active_tap\":\"auto\",\"tools\":[{\"id\":\"1254\"},{\"id\":\"1255\"},{\"id\":\"1256\"},{\"id\":\"1257\"},{\"id\":\"1258\"},{\"id\":\"1259\"}]},\"id\":\"1261\",\"type\":\"Toolbar\"},{\"attributes\":{\"text\":\"\"},\"id\":\"1273\",\"type\":\"Title\"},{\"attributes\":{},\"id\":\"1280\",\"type\":\"Selection\"},{\"attributes\":{},\"id\":\"1244\",\"type\":\"LinearScale\"},{\"attributes\":{\"below\":[{\"id\":\"1246\"}],\"center\":[{\"id\":\"1249\"},{\"id\":\"1253\"},{\"id\":\"1282\"}],\"left\":[{\"id\":\"1250\"}],\"plot_height\":500,\"plot_width\":500,\"renderers\":[{\"id\":\"1271\"}],\"title\":{\"id\":\"1273\"},\"toolbar\":{\"id\":\"1261\"},\"x_range\":{\"id\":\"1238\"},\"x_scale\":{\"id\":\"1242\"},\"y_range\":{\"id\":\"1240\"},\"y_scale\":{\"id\":\"1244\"}},\"id\":\"1237\",\"subtype\":\"Figure\",\"type\":\"Plot\"},{\"attributes\":{},\"id\":\"1242\",\"type\":\"LinearScale\"},{\"attributes\":{},\"id\":\"1258\",\"type\":\"ResetTool\"},{\"attributes\":{},\"id\":\"1240\",\"type\":\"DataRange1d\"},{\"attributes\":{},\"id\":\"1247\",\"type\":\"BasicTicker\"},{\"attributes\":{},\"id\":\"1251\",\"type\":\"BasicTicker\"},{\"attributes\":{\"axis\":{\"id\":\"1250\"},\"dimension\":1,\"ticker\":null},\"id\":\"1253\",\"type\":\"Grid\"},{\"attributes\":{\"line_color\":\"#1f77b4\",\"line_width\":3,\"x\":{\"field\":\"x\"},\"y\":{\"field\":\"y\"}},\"id\":\"1269\",\"type\":\"Line\"},{\"attributes\":{},\"id\":\"1279\",\"type\":\"UnionRenderers\"},{\"attributes\":{},\"id\":\"1257\",\"type\":\"SaveTool\"},{\"attributes\":{\"axis\":{\"id\":\"1246\"},\"ticker\":null},\"id\":\"1249\",\"type\":\"Grid\"}],\"root_ids\":[\"1284\"]},\"title\":\"Bokeh Application\",\"version\":\"2.2.3\"}};\n  var render_items = [{\"docid\":\"a76769cd-1dac-41a2-8dc7-d2225b85b8ed\",\"notebook_comms_target\":\"1312\",\"root_ids\":[\"1284\"],\"roots\":{\"1284\":\"d2cbb64b-3986-42ab-9d9a-9ed5195decd4\"}}];\n  root.Bokeh.embed.embed_items_notebook(docs_json, render_items);\n\n  }\n  if (root.Bokeh !== undefined) {\n    embed_document(root);\n  } else {\n    var attempts = 0;\n    var timer = setInterval(function(root) {\n      if (root.Bokeh !== undefined) {\n        clearInterval(timer);\n        embed_document(root);\n      } else {\n        attempts++;\n        if (attempts > 100) {\n          clearInterval(timer);\n          console.log(\"Bokeh: ERROR: Unable to run BokehJS code because BokehJS library is missing\");\n        }\n      }\n    }, 10, root)\n  }\n})(window);",
      "application/vnd.bokehjs_exec.v0+json": ""
     },
     "metadata": {
      "application/vnd.bokehjs_exec.v0+json": {
       "id": "1284"
      }
     }
    }
   ],
   "source": [
    "\"\"\"\n",
    "Task running 50 ms, sleep 50 ms, loop 2 times\n",
    "\"\"\"\n",
    "\n",
    "t = pt.Task(0, \"Thread_r50_s50_l2\", init_util=0)\n",
    "for i in range(2):\n",
    "    t.run(50)\n",
    "    t.sleep(50)\n",
    "\n",
    "util = t.util_history\n",
    "time = t.time_history\n",
    "\n",
    "p = figure(plot_width=500, plot_height=500)\n",
    "r = p.line(time, util, legend_label=f\"{t.comm}\", line_width=3)\n",
    "\n",
    "handle = show(row(p), notebook_handle=True)"
   ]
  },
  {
   "cell_type": "code",
   "execution_count": 10,
   "metadata": {},
   "outputs": [
    {
     "output_type": "display_data",
     "data": {
      "text/html": "\n\n\n\n\n\n  <div class=\"bk-root\" id=\"f4e12398-1377-4956-9cec-e541d7853701\" data-root-id=\"1535\"></div>\n"
     },
     "metadata": {}
    },
    {
     "output_type": "display_data",
     "data": {
      "application/javascript": "(function(root) {\n  function embed_document(root) {\n    \n  var docs_json = {\"ce2422b6-d62d-45dd-acf2-59446cb2a700\":{\"roots\":{\"references\":[{\"attributes\":{\"children\":[{\"id\":\"1488\"}]},\"id\":\"1535\",\"type\":\"Row\"},{\"attributes\":{\"data_source\":{\"id\":\"1519\"},\"glyph\":{\"id\":\"1520\"},\"hover_glyph\":null,\"muted_glyph\":null,\"nonselection_glyph\":{\"id\":\"1521\"},\"selection_glyph\":null,\"view\":{\"id\":\"1523\"}},\"id\":\"1522\",\"type\":\"GlyphRenderer\"},{\"attributes\":{},\"id\":\"1491\",\"type\":\"DataRange1d\"},{\"attributes\":{},\"id\":\"1508\",\"type\":\"SaveTool\"},{\"attributes\":{\"overlay\":{\"id\":\"1511\"}},\"id\":\"1507\",\"type\":\"BoxZoomTool\"},{\"attributes\":{},\"id\":\"1505\",\"type\":\"PanTool\"},{\"attributes\":{\"formatter\":{\"id\":\"1529\"},\"ticker\":{\"id\":\"1498\"}},\"id\":\"1497\",\"type\":\"LinearAxis\"},{\"attributes\":{\"bottom_units\":\"screen\",\"fill_alpha\":0.5,\"fill_color\":\"lightgrey\",\"left_units\":\"screen\",\"level\":\"overlay\",\"line_alpha\":1.0,\"line_color\":\"black\",\"line_dash\":[4,4],\"line_width\":2,\"right_units\":\"screen\",\"top_units\":\"screen\"},\"id\":\"1511\",\"type\":\"BoxAnnotation\"},{\"attributes\":{\"label\":{\"value\":\"Thread_r5_s5_l20\"},\"renderers\":[{\"id\":\"1522\"}]},\"id\":\"1534\",\"type\":\"LegendItem\"},{\"attributes\":{},\"id\":\"1527\",\"type\":\"BasicTickFormatter\"},{\"attributes\":{},\"id\":\"1510\",\"type\":\"HelpTool\"},{\"attributes\":{\"axis\":{\"id\":\"1497\"},\"ticker\":null},\"id\":\"1500\",\"type\":\"Grid\"},{\"attributes\":{\"axis\":{\"id\":\"1501\"},\"dimension\":1,\"ticker\":null},\"id\":\"1504\",\"type\":\"Grid\"},{\"attributes\":{},\"id\":\"1498\",\"type\":\"BasicTicker\"},{\"attributes\":{},\"id\":\"1489\",\"type\":\"DataRange1d\"},{\"attributes\":{},\"id\":\"1531\",\"type\":\"Selection\"},{\"attributes\":{},\"id\":\"1530\",\"type\":\"UnionRenderers\"},{\"attributes\":{\"source\":{\"id\":\"1519\"}},\"id\":\"1523\",\"type\":\"CDSView\"},{\"attributes\":{\"below\":[{\"id\":\"1497\"}],\"center\":[{\"id\":\"1500\"},{\"id\":\"1504\"},{\"id\":\"1533\"}],\"left\":[{\"id\":\"1501\"}],\"plot_height\":500,\"plot_width\":500,\"renderers\":[{\"id\":\"1522\"}],\"title\":{\"id\":\"1524\"},\"toolbar\":{\"id\":\"1512\"},\"x_range\":{\"id\":\"1489\"},\"x_scale\":{\"id\":\"1493\"},\"y_range\":{\"id\":\"1491\"},\"y_scale\":{\"id\":\"1495\"}},\"id\":\"1488\",\"subtype\":\"Figure\",\"type\":\"Plot\"},{\"attributes\":{\"line_alpha\":0.1,\"line_color\":\"#1f77b4\",\"line_width\":3,\"x\":{\"field\":\"x\"},\"y\":{\"field\":\"y\"}},\"id\":\"1521\",\"type\":\"Line\"},{\"attributes\":{},\"id\":\"1502\",\"type\":\"BasicTicker\"},{\"attributes\":{\"line_color\":\"#1f77b4\",\"line_width\":3,\"x\":{\"field\":\"x\"},\"y\":{\"field\":\"y\"}},\"id\":\"1520\",\"type\":\"Line\"},{\"attributes\":{\"text\":\"\"},\"id\":\"1524\",\"type\":\"Title\"},{\"attributes\":{},\"id\":\"1529\",\"type\":\"BasicTickFormatter\"},{\"attributes\":{},\"id\":\"1493\",\"type\":\"LinearScale\"},{\"attributes\":{\"formatter\":{\"id\":\"1527\"},\"ticker\":{\"id\":\"1502\"}},\"id\":\"1501\",\"type\":\"LinearAxis\"},{\"attributes\":{\"items\":[{\"id\":\"1534\"}]},\"id\":\"1533\",\"type\":\"Legend\"},{\"attributes\":{\"active_drag\":\"auto\",\"active_inspect\":\"auto\",\"active_multi\":null,\"active_scroll\":\"auto\",\"active_tap\":\"auto\",\"tools\":[{\"id\":\"1505\"},{\"id\":\"1506\"},{\"id\":\"1507\"},{\"id\":\"1508\"},{\"id\":\"1509\"},{\"id\":\"1510\"}]},\"id\":\"1512\",\"type\":\"Toolbar\"},{\"attributes\":{},\"id\":\"1506\",\"type\":\"WheelZoomTool\"},{\"attributes\":{\"data\":{\"x\":[0,4,5,9,10,14,15,19,20,24,25,29,30,34,35,39,40,44,45,49,50,54,55,59,60,64,65,69,70,74,75,79,80,84,85,89,90,94,95,99,100,104,105,109,110,114,115,119,120,124,125,129,130,134,135,139,140,144,145,149,150,154,155,159,160,164,165,169,170,174,175,179,180,184,185,189,190,194,195,199,200],\"y\":[0,85,105,96,94,171,189,174,170,241,258,236,231,297,313,287,280,342,357,327,320,379,392,360,352,408,421,386,378,431,444,407,398,450,463,424,415,466,478,438,429,478,490,449,439,488,499,458,448,496,507,465,455,502,514,471,461,508,519,476,465,512,523,479,469,515,526,482,472,518,529,485,474,520,531,487,476,522,532,488,478]},\"selected\":{\"id\":\"1531\"},\"selection_policy\":{\"id\":\"1530\"}},\"id\":\"1519\",\"type\":\"ColumnDataSource\"},{\"attributes\":{},\"id\":\"1509\",\"type\":\"ResetTool\"},{\"attributes\":{},\"id\":\"1495\",\"type\":\"LinearScale\"}],\"root_ids\":[\"1535\"]},\"title\":\"Bokeh Application\",\"version\":\"2.2.3\"}};\n  var render_items = [{\"docid\":\"ce2422b6-d62d-45dd-acf2-59446cb2a700\",\"notebook_comms_target\":\"1581\",\"root_ids\":[\"1535\"],\"roots\":{\"1535\":\"f4e12398-1377-4956-9cec-e541d7853701\"}}];\n  root.Bokeh.embed.embed_items_notebook(docs_json, render_items);\n\n  }\n  if (root.Bokeh !== undefined) {\n    embed_document(root);\n  } else {\n    var attempts = 0;\n    var timer = setInterval(function(root) {\n      if (root.Bokeh !== undefined) {\n        clearInterval(timer);\n        embed_document(root);\n      } else {\n        attempts++;\n        if (attempts > 100) {\n          clearInterval(timer);\n          console.log(\"Bokeh: ERROR: Unable to run BokehJS code because BokehJS library is missing\");\n        }\n      }\n    }, 10, root)\n  }\n})(window);",
      "application/vnd.bokehjs_exec.v0+json": ""
     },
     "metadata": {
      "application/vnd.bokehjs_exec.v0+json": {
       "id": "1535"
      }
     }
    }
   ],
   "source": [
    "\"\"\"\n",
    "Task running 5 ms, sleep 5 ms, loop 20 times\n",
    "\"\"\"\n",
    "\n",
    "t = pt.Task(0, \"Thread_r5_s5_l20\", init_util=0)\n",
    "for i in range(20):\n",
    "    t.run(5)\n",
    "    t.sleep(5)\n",
    "\n",
    "util = t.util_history\n",
    "time = t.time_history\n",
    "\n",
    "p = figure(plot_width=500, plot_height=500)\n",
    "r = p.line(time, util, legend_label=f\"{t.comm}\", line_width=3)\n",
    "\n",
    "handle = show(row(p), notebook_handle=True)"
   ]
  },
  {
   "cell_type": "code",
   "execution_count": 13,
   "metadata": {},
   "outputs": [
    {
     "output_type": "display_data",
     "data": {
      "text/html": "\n\n\n\n\n\n  <div class=\"bk-root\" id=\"a13e2ff0-2e2d-4453-9da7-79da21f1151a\" data-root-id=\"1979\"></div>\n"
     },
     "metadata": {}
    },
    {
     "output_type": "display_data",
     "data": {
      "application/javascript": "(function(root) {\n  function embed_document(root) {\n    \n  var docs_json = {\"db0306fb-1f20-49bd-bc1b-2025092d732b\":{\"roots\":{\"references\":[{\"attributes\":{\"children\":[{\"id\":\"1932\"}]},\"id\":\"1979\",\"type\":\"Row\"},{\"attributes\":{\"axis\":{\"id\":\"1945\"},\"dimension\":1,\"ticker\":null},\"id\":\"1948\",\"type\":\"Grid\"},{\"attributes\":{\"label\":{\"value\":\"Thread_r20_s5_l8\"},\"renderers\":[{\"id\":\"1966\"}]},\"id\":\"1978\",\"type\":\"LegendItem\"},{\"attributes\":{},\"id\":\"1952\",\"type\":\"SaveTool\"},{\"attributes\":{\"active_drag\":\"auto\",\"active_inspect\":\"auto\",\"active_multi\":null,\"active_scroll\":\"auto\",\"active_tap\":\"auto\",\"tools\":[{\"id\":\"1949\"},{\"id\":\"1950\"},{\"id\":\"1951\"},{\"id\":\"1952\"},{\"id\":\"1953\"},{\"id\":\"1954\"}]},\"id\":\"1956\",\"type\":\"Toolbar\"},{\"attributes\":{},\"id\":\"1949\",\"type\":\"PanTool\"},{\"attributes\":{},\"id\":\"1975\",\"type\":\"Selection\"},{\"attributes\":{\"line_alpha\":0.1,\"line_color\":\"#1f77b4\",\"line_width\":3,\"x\":{\"field\":\"x\"},\"y\":{\"field\":\"y\"}},\"id\":\"1965\",\"type\":\"Line\"},{\"attributes\":{},\"id\":\"1937\",\"type\":\"LinearScale\"},{\"attributes\":{\"below\":[{\"id\":\"1941\"}],\"center\":[{\"id\":\"1944\"},{\"id\":\"1948\"},{\"id\":\"1977\"}],\"left\":[{\"id\":\"1945\"}],\"plot_height\":500,\"plot_width\":500,\"renderers\":[{\"id\":\"1966\"}],\"title\":{\"id\":\"1968\"},\"toolbar\":{\"id\":\"1956\"},\"x_range\":{\"id\":\"1933\"},\"x_scale\":{\"id\":\"1937\"},\"y_range\":{\"id\":\"1935\"},\"y_scale\":{\"id\":\"1939\"}},\"id\":\"1932\",\"subtype\":\"Figure\",\"type\":\"Plot\"},{\"attributes\":{\"items\":[{\"id\":\"1978\"}]},\"id\":\"1977\",\"type\":\"Legend\"},{\"attributes\":{},\"id\":\"1935\",\"type\":\"DataRange1d\"},{\"attributes\":{},\"id\":\"1939\",\"type\":\"LinearScale\"},{\"attributes\":{\"formatter\":{\"id\":\"1971\"},\"ticker\":{\"id\":\"1946\"}},\"id\":\"1945\",\"type\":\"LinearAxis\"},{\"attributes\":{},\"id\":\"1953\",\"type\":\"ResetTool\"},{\"attributes\":{},\"id\":\"1974\",\"type\":\"UnionRenderers\"},{\"attributes\":{\"source\":{\"id\":\"1963\"}},\"id\":\"1967\",\"type\":\"CDSView\"},{\"attributes\":{},\"id\":\"1971\",\"type\":\"BasicTickFormatter\"},{\"attributes\":{},\"id\":\"1942\",\"type\":\"BasicTicker\"},{\"attributes\":{\"formatter\":{\"id\":\"1973\"},\"ticker\":{\"id\":\"1942\"}},\"id\":\"1941\",\"type\":\"LinearAxis\"},{\"attributes\":{\"text\":\"\"},\"id\":\"1968\",\"type\":\"Title\"},{\"attributes\":{\"axis\":{\"id\":\"1941\"},\"ticker\":null},\"id\":\"1944\",\"type\":\"Grid\"},{\"attributes\":{\"bottom_units\":\"screen\",\"fill_alpha\":0.5,\"fill_color\":\"lightgrey\",\"left_units\":\"screen\",\"level\":\"overlay\",\"line_alpha\":1.0,\"line_color\":\"black\",\"line_dash\":[4,4],\"line_width\":2,\"right_units\":\"screen\",\"top_units\":\"screen\"},\"id\":\"1955\",\"type\":\"BoxAnnotation\"},{\"attributes\":{\"line_color\":\"#1f77b4\",\"line_width\":3,\"x\":{\"field\":\"x\"},\"y\":{\"field\":\"y\"}},\"id\":\"1964\",\"type\":\"Line\"},{\"attributes\":{},\"id\":\"1946\",\"type\":\"BasicTicker\"},{\"attributes\":{},\"id\":\"1973\",\"type\":\"BasicTickFormatter\"},{\"attributes\":{},\"id\":\"1954\",\"type\":\"HelpTool\"},{\"attributes\":{\"overlay\":{\"id\":\"1955\"}},\"id\":\"1951\",\"type\":\"BoxZoomTool\"},{\"attributes\":{\"data\":{\"x\":[0,4,8,12,16,20,24,25,29,33,37,41,45,49,50,54,58,62,66,70,74,75,79,83,87,91,95,99,100,104,108,112,116,120,124,125,129,133,137,141,145,149,150,154,158,162,166,170,174,175,179,183,187,191,195,199,200],\"y\":[0,85,163,234,300,360,330,323,381,434,483,528,569,522,511,553,593,628,661,691,634,620,654,685,713,739,762,699,684,712,738,762,784,804,737,721,746,769,790,810,828,759,743,766,787,807,825,842,772,755,778,798,817,834,850,779,762]},\"selected\":{\"id\":\"1975\"},\"selection_policy\":{\"id\":\"1974\"}},\"id\":\"1963\",\"type\":\"ColumnDataSource\"},{\"attributes\":{},\"id\":\"1933\",\"type\":\"DataRange1d\"},{\"attributes\":{\"data_source\":{\"id\":\"1963\"},\"glyph\":{\"id\":\"1964\"},\"hover_glyph\":null,\"muted_glyph\":null,\"nonselection_glyph\":{\"id\":\"1965\"},\"selection_glyph\":null,\"view\":{\"id\":\"1967\"}},\"id\":\"1966\",\"type\":\"GlyphRenderer\"},{\"attributes\":{},\"id\":\"1950\",\"type\":\"WheelZoomTool\"}],\"root_ids\":[\"1979\"]},\"title\":\"Bokeh Application\",\"version\":\"2.2.3\"}};\n  var render_items = [{\"docid\":\"db0306fb-1f20-49bd-bc1b-2025092d732b\",\"notebook_comms_target\":\"2052\",\"root_ids\":[\"1979\"],\"roots\":{\"1979\":\"a13e2ff0-2e2d-4453-9da7-79da21f1151a\"}}];\n  root.Bokeh.embed.embed_items_notebook(docs_json, render_items);\n\n  }\n  if (root.Bokeh !== undefined) {\n    embed_document(root);\n  } else {\n    var attempts = 0;\n    var timer = setInterval(function(root) {\n      if (root.Bokeh !== undefined) {\n        clearInterval(timer);\n        embed_document(root);\n      } else {\n        attempts++;\n        if (attempts > 100) {\n          clearInterval(timer);\n          console.log(\"Bokeh: ERROR: Unable to run BokehJS code because BokehJS library is missing\");\n        }\n      }\n    }, 10, root)\n  }\n})(window);",
      "application/vnd.bokehjs_exec.v0+json": ""
     },
     "metadata": {
      "application/vnd.bokehjs_exec.v0+json": {
       "id": "1979"
      }
     }
    }
   ],
   "source": [
    "\"\"\"\n",
    "Task running 20 ms, sleep 5 ms, loop 8 times\n",
    "\"\"\"\n",
    "\n",
    "t = pt.Task(0, \"Thread_r20_s5_l8\", init_util=0)\n",
    "for i in range(8):\n",
    "    t.run(20)\n",
    "    t.sleep(5)\n",
    "\n",
    "util = t.util_history\n",
    "time = t.time_history\n",
    "\n",
    "p = figure(plot_width=500, plot_height=500)\n",
    "r = p.line(time, util, legend_label=f\"{t.comm}\", line_width=3)\n",
    "\n",
    "handle = show(row(p), notebook_handle=True)"
   ]
  },
  {
   "cell_type": "code",
   "execution_count": null,
   "metadata": {},
   "outputs": [],
   "source": []
  }
 ]
}